{
 "cells": [
  {
   "cell_type": "code",
   "execution_count": 1,
   "id": "c36865b8",
   "metadata": {},
   "outputs": [
    {
     "name": "stdout",
     "output_type": "stream",
     "text": [
      "True\n",
      "I have 3 friends out of 12\n"
     ]
    },
    {
     "data": {
      "text/plain": [
       "'hHello friendi'"
      ]
     },
     "execution_count": 1,
     "metadata": {},
     "output_type": "execute_result"
    }
   ],
   "source": [
    "#strings\n",
    "A='Python'\n",
    "A[0:2]\n",
    "B=A[:2]+A[1::3]\n",
    "C=A[::-1]\n",
    "D=A[2::-1]\n",
    "C,D,A[-4:-2], A[::-2]\n",
    "A[::2]\n",
    "A[::-1]\n",
    "A.upper()\n",
    "A.lower()\n",
    "A[::-1].upper()\n",
    "\n",
    "len(A)\n",
    "\n",
    "D=\"Hello friend\"\n",
    "print('friend' in D)\n",
    "\n",
    "D.replace(\"e\", 'a')\n",
    "D.split()\n",
    "c=D+'s'\n",
    "\n",
    "a=12\n",
    "b=3\n",
    "s=\"I have {} friends out of {}\"\n",
    "print(s.format(b,a))\n",
    "\n",
    "D.isupper()\n",
    "D.join('hi')\n"
   ]
  },
  {
   "cell_type": "code",
   "execution_count": 2,
   "id": "63cad6f4",
   "metadata": {},
   "outputs": [
    {
     "name": "stdout",
     "output_type": "stream",
     "text": [
      "[1, 5, 5, 8, 3, 2, 24]\n",
      "[]\n",
      "[1, 5, 5, 8, 3, 2, 24]\n",
      "[1, 5, 33, 5, 8, 3, 2, 24]\n",
      "[1, 5, 33, 5, 8, 2, 24]\n",
      "[1, 2, 5, 5, 8, 24, 33]\n",
      "[1, 2, 5, 5, 8, 33]\n",
      "[33, 8, 5, 5, 2, 1]\n"
     ]
    }
   ],
   "source": [
    "#List\n",
    "A=[1,5,5,8,3,2]\n",
    "A.append(24)\n",
    "C=A.copy()\n",
    "print(A)\n",
    "A.clear()\n",
    "print(A)\n",
    "print(C)\n",
    "\n",
    "C.count(5)\n",
    "C.insert(2,33)\n",
    "print(C)\n",
    "\n",
    "C.pop(5)\n",
    "print(C)\n",
    "\n",
    "C.sort()\n",
    "print(C)\n",
    "\n",
    "C.remove(24)\n",
    "print(C)\n",
    "\n",
    "C.reverse()\n",
    "print(C)"
   ]
  },
  {
   "cell_type": "code",
   "execution_count": 3,
   "id": "ebd784f2",
   "metadata": {},
   "outputs": [
    {
     "data": {
      "text/plain": [
       "4"
      ]
     },
     "execution_count": 3,
     "metadata": {},
     "output_type": "execute_result"
    }
   ],
   "source": [
    "#Tuples\n",
    "A=(1,2,2,2,3,4,5)\n",
    "A.count(2)\n",
    "A.index(3)"
   ]
  },
  {
   "cell_type": "code",
   "execution_count": 4,
   "id": "e5dc41ca",
   "metadata": {},
   "outputs": [
    {
     "name": "stdout",
     "output_type": "stream",
     "text": [
      "{1: [1, 2, 3, 4], 2: [1, 3, 5, 7], 3: [1, 3, 6, 9], 4: [1, 4, 8, 12]}\n",
      "{1: [1, 2, 3, 4], 2: [1, 3, 5, 7], 3: [1, 3, 6, 9], 4: [1, 4, 8, 12]}\n",
      "{}\n",
      "[1, 2, 3, 4]\n",
      "[1, 3, 5, 7]\n"
     ]
    }
   ],
   "source": [
    "#Dictionary\n",
    "Dict={1:[1,2,3,4], 2:[1,3,5,7], 3:[1,3,6,9], 4:[1,4,8,12]}\n",
    "print(Dict)\n",
    "\n",
    "Dup2=Dict.copy()\n",
    "\n",
    "Dup=Dict.copy()\n",
    "print(Dup)\n",
    "\n",
    "Dup.clear()\n",
    "print(Dup)\n",
    "\n",
    "print(Dict.get(1))\n",
    "print(Dict.get(2))\n"
   ]
  },
  {
   "cell_type": "code",
   "execution_count": 5,
   "id": "12cd786b",
   "metadata": {},
   "outputs": [
    {
     "name": "stdout",
     "output_type": "stream",
     "text": [
      "{1, 2, 3, 4, 5, 24}\n",
      "set()\n",
      "{24, 3, 4, 5}\n",
      "{1, 2}\n",
      "{1, 2, 3, 4, 5, 7, 8, 9, 24}\n",
      "False\n",
      "False\n"
     ]
    }
   ],
   "source": [
    "#sets\n",
    "A={1,2,3,4,5}\n",
    "C={1,2,7,8,9}\n",
    "\n",
    "B=A.copy()\n",
    "\n",
    "A.add(24)\n",
    "print(A)\n",
    "\n",
    "B.clear()\n",
    "print(B)\n",
    "\n",
    "print(A.difference(C))\n",
    "print(A.intersection(C))\n",
    "print(A.union(C))\n",
    "print(A.isdisjoint(C))\n",
    "print(A.issubset(C))\n"
   ]
  },
  {
   "cell_type": "code",
   "execution_count": 6,
   "id": "38d19a46",
   "metadata": {},
   "outputs": [
    {
     "name": "stdout",
     "output_type": "stream",
     "text": [
      "0b10101\n",
      "0o25\n",
      "0x15\n"
     ]
    }
   ],
   "source": [
    "A=21\n",
    "print(bin(A))\n",
    "print(oct(A))\n",
    "print(hex(A))"
   ]
  },
  {
   "cell_type": "code",
   "execution_count": 17,
   "id": "8c2967b5",
   "metadata": {},
   "outputs": [
    {
     "name": "stdout",
     "output_type": "stream",
     "text": [
      "27 21 8.0 0 72 13824\n",
      "8\n",
      "0\n"
     ]
    }
   ],
   "source": [
    "a, b= 24, 3\n",
    "print( a+b , a-b, a/b, a%b, a*b, a**b)\n",
    "print(a//b)\n",
    "print(a&b)"
   ]
  },
  {
   "cell_type": "code",
   "execution_count": 12,
   "id": "3a48d303",
   "metadata": {},
   "outputs": [
    {
     "name": "stdout",
     "output_type": "stream",
     "text": [
      "5\n"
     ]
    }
   ],
   "source": [
    "a=3\n",
    "a+=2\n",
    "print(a)"
   ]
  },
  {
   "cell_type": "code",
   "execution_count": 19,
   "id": "b97a41a9",
   "metadata": {},
   "outputs": [
    {
     "name": "stdout",
     "output_type": "stream",
     "text": [
      "5\n",
      "3\n",
      "6\n",
      "3.0\n",
      "1.0\n",
      "0.0\n"
     ]
    }
   ],
   "source": [
    "a=3\n",
    "a+=2\n",
    "print(a)\n",
    "\n",
    "a-=2\n",
    "print(a)\n",
    "\n",
    "a*=2\n",
    "print(a)\n",
    "\n",
    "a/=2\n",
    "print(a)\n",
    "\n",
    "a%=2\n",
    "print(a)\n",
    "\n",
    "a//=2\n",
    "print(a)\n"
   ]
  },
  {
   "cell_type": "code",
   "execution_count": 23,
   "id": "4e9ca19b",
   "metadata": {},
   "outputs": [
    {
     "name": "stdout",
     "output_type": "stream",
     "text": [
      "False False False True True True\n"
     ]
    }
   ],
   "source": [
    "a=2\n",
    "b=3\n",
    "print(a==b, a>b, a>=b, a<=b, a!=b, a<b)"
   ]
  },
  {
   "cell_type": "code",
   "execution_count": 28,
   "id": "dddddce1",
   "metadata": {},
   "outputs": [
    {
     "name": "stdout",
     "output_type": "stream",
     "text": [
      "False True False True\n",
      "False True\n",
      "-11\n",
      "15\n"
     ]
    }
   ],
   "source": [
    "#Logic and Bit-wise operators\n",
    "a=True\n",
    "b=False\n",
    "print(a and b, a or b, not a, not(a and b))\n",
    "print( a&b, a|b)\n",
    "\n",
    "a=10\n",
    "b=5\n",
    "print(~a)\n",
    "print(a^b)"
   ]
  },
  {
   "cell_type": "code",
   "execution_count": 32,
   "id": "7937170f",
   "metadata": {},
   "outputs": [
    {
     "name": "stdout",
     "output_type": "stream",
     "text": [
      "True\n"
     ]
    }
   ],
   "source": [
    "#membership operators\n",
    "x=[1,2,3,4,5]\n",
    "y=[1,2,3]\n",
    "print((y in x)|(y not in x))"
   ]
  },
  {
   "cell_type": "code",
   "execution_count": 40,
   "id": "94355450",
   "metadata": {},
   "outputs": [
    {
     "name": "stdout",
     "output_type": "stream",
     "text": [
      "[2, 3, 4, 5]\n",
      "[2, 3, 4, 5, 6]\n",
      "[2, 4, 6]\n",
      "[2, 1]\n"
     ]
    }
   ],
   "source": [
    "A=[1,2,3,4,5,6]\n",
    "print(A[-5:-1])\n",
    "print(A[-5:])\n",
    "print(A[-5::2])\n",
    "print(A[-5::-1])"
   ]
  },
  {
   "cell_type": "code",
   "execution_count": 43,
   "id": "23219a6d",
   "metadata": {},
   "outputs": [
    {
     "name": "stdout",
     "output_type": "stream",
     "text": [
      "tsnnstj oaens eahfsr \n",
      "---------\n",
      "ot emoc\n"
     ]
    }
   ],
   "source": [
    "print(\"A series of characters designated as one object is known as string\"[::-1][4::3])\n",
    "print(\"---------\")\n",
    "print(\"Welcome to Python training program\"[3:10][::-1])"
   ]
  },
  {
   "cell_type": "code",
   "execution_count": 46,
   "id": "7ba19f39",
   "metadata": {},
   "outputs": [
    {
     "name": "stdout",
     "output_type": "stream",
     "text": [
      "was it a car or a cat I saw\n",
      "WAS I TAC A RO RAC A TI SAW\n"
     ]
    }
   ],
   "source": [
    "x=input()\n",
    "y=x[::-1]\n",
    "print(y.upper())"
   ]
  },
  {
   "cell_type": "code",
   "execution_count": 53,
   "id": "8ae19f2b",
   "metadata": {},
   "outputs": [
    {
     "name": "stdout",
     "output_type": "stream",
     "text": [
      "2\n",
      "ZZOOOO\n"
     ]
    }
   ],
   "source": [
    "x=int(input())\n",
    "y=2*x\n",
    "print(x*\"Z\"+y*\"O\")"
   ]
  },
  {
   "cell_type": "code",
   "execution_count": null,
   "id": "526cdb2f",
   "metadata": {},
   "outputs": [],
   "source": []
  }
 ],
 "metadata": {
  "kernelspec": {
   "display_name": "Python 3 (ipykernel)",
   "language": "python",
   "name": "python3"
  },
  "language_info": {
   "codemirror_mode": {
    "name": "ipython",
    "version": 3
   },
   "file_extension": ".py",
   "mimetype": "text/x-python",
   "name": "python",
   "nbconvert_exporter": "python",
   "pygments_lexer": "ipython3",
   "version": "3.9.13"
  }
 },
 "nbformat": 4,
 "nbformat_minor": 5
}
